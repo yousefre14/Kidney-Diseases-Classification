{
 "cells": [
  {
   "cell_type": "code",
   "execution_count": 172,
   "id": "f53b482e",
   "metadata": {},
   "outputs": [
    {
     "name": "stdout",
     "output_type": "stream",
     "text": [
      "/home/yousef/miniconda3/envs/kidney2/bin/python\n",
      "['/home/yousef/miniconda3/envs/kidney2/lib/python310.zip', '/home/yousef/miniconda3/envs/kidney2/lib/python3.10', '/home/yousef/miniconda3/envs/kidney2/lib/python3.10/lib-dynload', '', '/home/yousef/.local/lib/python3.10/site-packages', '/home/yousef/miniconda3/envs/kidney2/lib/python3.10/site-packages', '/home/yousef/Kidney-Diseases-Classification', '/home/yousef/Kidney-Diseases-Classification', '/home/yousef/Kidney-Diseases-Classification/src', '..', '..', '/home/yousef/Kidney-Diseases-Classification/src', '/home/yousef', '/home/yousef/Kidney-Diseases-Classification/src', '..', '..', '/home', '/home/yousef/Kidney-Diseases-Classification/src', '..', '/home/yousef/Kidney-Diseases-Classification/src', '/', '/home/yousef/Kidney-Diseases-Classification/src', '..', '/home/yousef/Kidney-Diseases-Classification/src', '/', '/home/yousef/Kidney-Diseases-Classification/src', '..', '/home/yousef/Kidney-Diseases-Classification/src', '/', '/home/yousef/Kidney-Diseases-Classification/src', '..', '/home/yousef/Kidney-Diseases-Classification/src', '/', '/home/yousef/Kidney-Diseases-Classification/src', '..', '/home/yousef/Kidney-Diseases-Classification/src', '/home/yousef/Kidney-Diseases-Classification/src', '/', '/home/yousef/Kidney-Diseases-Classification/src', '..', '/home/yousef/Kidney-Diseases-Classification/src', '/', '/home/yousef/Kidney-Diseases-Classification/src', '..', '/home/yousef/Kidney-Diseases-Classification/src', '..', '/home/yousef/Kidney-Diseases-Classification/src', '/', '/home/yousef/Kidney-Diseases-Classification/src', '..', '/home/yousef/Kidney-Diseases-Classification/src', '/', '/home/yousef/Kidney-Diseases-Classification/src', '..', '/home/yousef/Kidney-Diseases-Classification/src', '/home/yousef', '/home/yousef/Kidney-Diseases-Classification/src', '..', '/home/yousef/Kidney-Diseases-Classification/src', '/home/yousef']\n"
     ]
    }
   ],
   "source": [
    "import os\n",
    "%pwd\n",
    "import sys, os\n",
    "sys.path.append(os.path.abspath(\"..\"))  # go one directory up (from notebooks to project)\n",
    "print(sys.executable)   # must point to kidney2\n",
    "print(sys.path)         \n",
    "sys.path.append(\"/home/yousef/Kidney-Diseases-Classification/src\")"
   ]
  },
  {
   "cell_type": "code",
   "execution_count": 173,
   "id": "515bda4b",
   "metadata": {},
   "outputs": [
    {
     "name": "stdout",
     "output_type": "stream",
     "text": [
      "/home/yousef/Kidney-Diseases-Classification/src/cnnClassifier/__init__.py\n"
     ]
    }
   ],
   "source": [
    "sys.path.append(\"..\")  # Add parent directory to Python path\n",
    "import cnnClassifier\n",
    "print(cnnClassifier.__file__)"
   ]
  },
  {
   "cell_type": "code",
   "execution_count": 174,
   "id": "8914e25b",
   "metadata": {},
   "outputs": [
    {
     "name": "stdout",
     "output_type": "stream",
     "text": [
      "📂 Now working in: /home/yousef/Kidney-Diseases-Classification\n"
     ]
    }
   ],
   "source": [
    "import os\n",
    "os.chdir(\"/home/yousef/Kidney-Diseases-Classification\")\n",
    "print(\"📂 Now working in:\", os.getcwd())"
   ]
  },
  {
   "cell_type": "code",
   "execution_count": 175,
   "id": "474470a9",
   "metadata": {},
   "outputs": [
    {
     "name": "stdout",
     "output_type": "stream",
     "text": [
      "cnnClassifier location: /home/yousef/Kidney-Diseases-Classification/src/cnnClassifier/__init__.py\n",
      "Submodules: ['pipeline', '__init__.py', 'constants', 'utils', 'components', 'config', 'entity', '__pycache__']\n",
      "Entity path exists? True\n",
      "Entity contents: ['/home/yousef/Kidney-Diseases-Classification/src/cnnClassifier/entity/__init__.py', '/home/yousef/Kidney-Diseases-Classification/src/cnnClassifier/entity/config_entity.py', '/home/yousef/Kidney-Diseases-Classification/src/cnnClassifier/entity/__pycache__']\n"
     ]
    }
   ],
   "source": [
    "import os, glob, cnnClassifier\n",
    "\n",
    "print(\"cnnClassifier location:\", cnnClassifier.__file__)\n",
    "print(\"Submodules:\", os.listdir(os.path.dirname(cnnClassifier.__file__)))\n",
    "\n",
    "# Show inside entity/\n",
    "entity_path = os.path.join(os.path.dirname(cnnClassifier.__file__), \"entity\")\n",
    "print(\"Entity path exists?\", os.path.exists(entity_path))\n",
    "print(\"Entity contents:\", glob.glob(os.path.join(entity_path, \"*\")))"
   ]
  },
  {
   "cell_type": "code",
   "execution_count": 176,
   "id": "93044a81",
   "metadata": {},
   "outputs": [
    {
     "name": "stdout",
     "output_type": "stream",
     "text": [
      "configs/config.yaml 276\n",
      "params.yaml 164\n"
     ]
    }
   ],
   "source": [
    "import os\n",
    "\n",
    "for file in [\"configs/config.yaml\", \"params.yaml\"]:\n",
    "    full_path = f\"/home/yousef/Kidney-Diseases-Classification/{file}\"\n",
    "    print(file, os.path.getsize(full_path))"
   ]
  },
  {
   "cell_type": "code",
   "execution_count": 177,
   "id": "b1eabd7b",
   "metadata": {},
   "outputs": [],
   "source": [
    "from dataclasses import dataclass\n",
    "from pathlib import Path\n",
    "\n",
    "@dataclass(frozen=True)\n",
    "class DataIngestionConfig:\n",
    "    root_dir: Path\n",
    "    source_URL: str\n",
    "    local_data_file: str\n",
    "    unzip_dir: str"
   ]
  },
  {
   "cell_type": "code",
   "execution_count": 178,
   "id": "417c7d98",
   "metadata": {},
   "outputs": [
    {
     "name": "stdout",
     "output_type": "stream",
     "text": [
      "Obtaining file:///home/yousef/Kidney-Diseases-Classification\n",
      "  Preparing metadata (setup.py) ... \u001b[?25ldone\n",
      "\u001b[?25hInstalling collected packages: cnnClassifier\n",
      "  Attempting uninstall: cnnClassifier\n",
      "    Found existing installation: cnnClassifier 0.0.1\n",
      "    Uninstalling cnnClassifier-0.0.1:\n",
      "      Successfully uninstalled cnnClassifier-0.0.1\n",
      "\u001b[33m  DEPRECATION: Legacy editable install of cnnClassifier==0.0.1 from file:///home/yousef/Kidney-Diseases-Classification (setup.py develop) is deprecated. pip 25.3 will enforce this behaviour change. A possible replacement is to add a pyproject.toml or enable --use-pep517, and use setuptools >= 64. If the resulting installation is not behaving as expected, try using --config-settings editable_mode=compat. Please consult the setuptools documentation for more information. Discussion can be found at https://github.com/pypa/pip/issues/11457\u001b[0m\u001b[33m\n",
      "\u001b[0m  Running setup.py develop for cnnClassifier\n",
      "Successfully installed cnnClassifier\n",
      "Note: you may need to restart the kernel to use updated packages.\n",
      "cnnClassifier path: /home/yousef/Kidney-Diseases-Classification/src/cnnClassifier/__init__.py\n"
     ]
    }
   ],
   "source": [
    "# Install the package (explicit path!)\n",
    "%pip install -e /home/yousef/Kidney-Diseases-Classification\n",
    "\n",
    "# Ensure src/ is on sys.path\n",
    "import sys\n",
    "import zipfile\n",
    "import gdown\n",
    "sys.path.append(\"/home/yousef/Kidney-Diseases-Classification/src\")\n",
    "\n",
    "# Debug: confirm Python can see cnnClassifier\n",
    "import importlib.util, os\n",
    "print(\"cnnClassifier path:\", importlib.util.find_spec(\"cnnClassifier\").origin)\n",
    "\n",
    "# Now imports\n",
    "from cnnClassifier.utils.common import get_size\n",
    "from cnnClassifier.entity.config_entity import DataIngestionConfig"
   ]
  },
  {
   "cell_type": "code",
   "execution_count": null,
   "id": "b86a2c0c",
   "metadata": {},
   "outputs": [],
   "source": [
    "from pathlib import Path\n",
    "from cnnClassifier.utils.common import read_yaml, create_directories\n",
    "from cnnClassifier.entity.config_entity import DataIngestionConfig\n",
    "from cnnClassifier import logger\n",
    "\n",
    "class ConfigManager:\n",
    "    def __init__(self, \n",
    "                 config_filename: str = \"configs/config.yaml\", \n",
    "                 params_filename: str = \"params.yaml\"):\n",
    "        \n",
    "        # Force project root explicitly\n",
    "        self.project_root = Path(\"/home/yousef/Kidney-Diseases-Classification\")\n",
    "\n",
    "        # Build absolute paths\n",
    "        self.config_path = self.project_root / config_filename\n",
    "        self.params_path = self.project_root / params_filename\n",
    "\n",
    "        print(f\"📂 Looking for config at: {self.config_path}\")\n",
    "        print(f\"📂 Looking for params at: {self.params_path}\")\n",
    "\n",
    "        # Validate existence\n",
    "        if not self.config_path.exists():\n",
    "            raise FileNotFoundError(f\"❌ Config file not found: {self.config_path}\")\n",
    "        if not self.params_path.exists():\n",
    "            raise FileNotFoundError(f\"❌ Params file not found: {self.params_path}\")\n",
    "\n",
    "        # Load YAMLs\n",
    "        self.config = read_yaml(str(self.config_path))\n",
    "        self.params = read_yaml(str(self.params_path))\n",
    "\n",
    "        # Create artifacts directory\n",
    "        create_directories([self.config.artifacts_root])\n",
    "\n",
    "    def get_data_ingestion_config(self) -> DataIngestionConfig:\n",
    "        config = self.config.data_ingestion\n",
    "        create_directories([config.root_dir])\n",
    "\n",
    "        return DataIngestionConfig(\n",
    "            root_dir=Path(config.root_dir),\n",
    "            source_URL=config.source_URL,\n",
    "            local_data_file=Path(config.local_data_file),\n",
    "            unzip_dir=Path(config.unzip_dir),\n",
    "        )"
   ]
  },
  {
   "cell_type": "code",
   "execution_count": 180,
   "id": "82c60235",
   "metadata": {},
   "outputs": [],
   "source": [
    "class DataIngestion:\n",
    "    def __init__(self, config: DataIngestionConfig):\n",
    "        self.config = config\n",
    "\n",
    "    def download_data(self) -> str:\n",
    "        '''\n",
    "        fetch data from the url\n",
    "        '''\n",
    "\n",
    "        try:\n",
    "            dataset_url = self.config.source_URL\n",
    "            zip_download_path = self.config.local_data_file\n",
    "            os.makedirs(\"artifacts/data_ingestion\", exist_ok=True)\n",
    "            logger.info(f\"Downloading file from :[{dataset_url}] into :[{zip_download_path}]\")\n",
    "\n",
    "            file_id = dataset_url.split('/')[-2]\n",
    "            prefix = dataset_url.split('/')[-1].split('?')[0]\n",
    "            gdown.download(id=file_id, output=str(zip_download_path), quiet=False)\n",
    "\n",
    "            logger.info(f\"File :[{zip_download_path}] has been downloaded successfully.\")\n",
    "\n",
    "        except Exception as e:\n",
    "            raise e\n",
    "        \n",
    "    def extract_zip_file(self) -> None:\n",
    "        '''\n",
    "        unzip the downloaded file\n",
    "        '''\n",
    "        try:\n",
    "            unzip_path = self.config.unzip_dir\n",
    "            zip_file_path = self.config.local_data_file\n",
    "\n",
    "            logger.info(f\"Unzipping file :[{zip_file_path}] into dir :[{unzip_path}]\")\n",
    "            os.makedirs(unzip_path, exist_ok=True)\n",
    "            with zipfile.ZipFile(zip_file_path, 'r') as zip_ref:\n",
    "                zip_ref.extractall(unzip_path)\n",
    "            logger.info(f\"Unzipping completed successfully. and data is available at :[{unzip_path}]\")\n",
    "        except Exception as e:\n",
    "            raise e    \n",
    "        \n"
   ]
  },
  {
   "cell_type": "code",
   "execution_count": 181,
   "id": "a9bb1e71",
   "metadata": {},
   "outputs": [
    {
     "name": "stdout",
     "output_type": "stream",
     "text": [
      "📂 Looking for config at: /home/yousef/Kidney-Diseases-Classification/configs/config.yaml\n",
      "📂 Looking for params at: /home/yousef/Kidney-Diseases-Classification/params.yaml\n",
      "[2025-09-08 19:56:13,816: INFO: common: yaml file: /home/yousef/Kidney-Diseases-Classification/configs/config.yaml loaded successfully]\n",
      "[2025-09-08 19:56:13,817: INFO: common: yaml file: /home/yousef/Kidney-Diseases-Classification/params.yaml loaded successfully]\n",
      "[2025-09-08 19:56:13,818: INFO: common: created directory at: ./artifacts]\n",
      "[2025-09-08 19:56:13,818: INFO: common: created directory at: ./artifacts/data_ingestion]\n",
      "[2025-09-08 19:56:13,819: INFO: 2738064876: Downloading file from :[https://drive.google.com/file/d/1vlhZ5c7abUKF8xXERIw6m9Te8fW7ohw3/view?usp=sharing] into :[artifacts/data_ingestion/data.zip]]\n"
     ]
    },
    {
     "name": "stderr",
     "output_type": "stream",
     "text": [
      "Downloading...\n",
      "From (original): https://drive.google.com/uc?id=1vlhZ5c7abUKF8xXERIw6m9Te8fW7ohw3\n",
      "From (redirected): https://drive.google.com/uc?id=1vlhZ5c7abUKF8xXERIw6m9Te8fW7ohw3&confirm=t&uuid=61fba301-8130-4bbe-a2da-8ce498270d56\n",
      "To: /home/yousef/Kidney-Diseases-Classification/artifacts/data_ingestion/data.zip\n",
      "100%|██████████| 57.7M/57.7M [00:17<00:00, 3.22MB/s]"
     ]
    },
    {
     "name": "stdout",
     "output_type": "stream",
     "text": [
      "[2025-09-08 19:56:34,317: INFO: 2738064876: File :[artifacts/data_ingestion/data.zip] has been downloaded successfully.]\n",
      "[2025-09-08 19:56:34,319: INFO: 2738064876: Unzipping file :[artifacts/data_ingestion/data.zip] into dir :[artifacts/data_ingestion]]\n"
     ]
    },
    {
     "name": "stderr",
     "output_type": "stream",
     "text": [
      "\n"
     ]
    },
    {
     "name": "stdout",
     "output_type": "stream",
     "text": [
      "[2025-09-08 19:56:34,688: INFO: 2738064876: Unzipping completed successfully. and data is available at :[artifacts/data_ingestion]]\n"
     ]
    }
   ],
   "source": [
    "try:\n",
    "    config= ConfigManager()\n",
    "    data_ingestion_config= config.get_data_ingestion_config()\n",
    "    data_ingestion= DataIngestion(config= data_ingestion_config)\n",
    "    data_ingestion.download_data()\n",
    "    data_ingestion.extract_zip_file()\n",
    "except Exception as e:\n",
    "    print(f\"An error occurred: {e}\")\n",
    "    raise e"
   ]
  }
 ],
 "metadata": {
  "kernelspec": {
   "display_name": "kidney2",
   "language": "python",
   "name": "python3"
  },
  "language_info": {
   "codemirror_mode": {
    "name": "ipython",
    "version": 3
   },
   "file_extension": ".py",
   "mimetype": "text/x-python",
   "name": "python",
   "nbconvert_exporter": "python",
   "pygments_lexer": "ipython3",
   "version": "3.10.18"
  }
 },
 "nbformat": 4,
 "nbformat_minor": 5
}
