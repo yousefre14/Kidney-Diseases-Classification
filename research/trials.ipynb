{
 "cells": [
  {
   "cell_type": "code",
   "execution_count": 5,
   "id": "a385264d",
   "metadata": {},
   "outputs": [
    {
     "name": "stdout",
     "output_type": "stream",
     "text": [
      "Requirement already satisfied: gdown in /home/yousef/miniconda3/envs/kidney2/lib/python3.10/site-packages (5.2.0)\n",
      "Requirement already satisfied: beautifulsoup4 in /home/yousef/miniconda3/envs/kidney2/lib/python3.10/site-packages (from gdown) (4.13.5)\n",
      "Requirement already satisfied: filelock in /home/yousef/.local/lib/python3.10/site-packages (from gdown) (3.14.0)\n",
      "Requirement already satisfied: requests[socks] in /home/yousef/miniconda3/envs/kidney2/lib/python3.10/site-packages (from gdown) (2.32.5)\n",
      "Requirement already satisfied: tqdm in /home/yousef/miniconda3/envs/kidney2/lib/python3.10/site-packages (from gdown) (4.67.1)\n",
      "Requirement already satisfied: soupsieve>1.2 in /home/yousef/miniconda3/envs/kidney2/lib/python3.10/site-packages (from beautifulsoup4->gdown) (2.8)\n",
      "Requirement already satisfied: typing-extensions>=4.0.0 in /home/yousef/.local/lib/python3.10/site-packages (from beautifulsoup4->gdown) (4.12.1)\n",
      "Requirement already satisfied: charset_normalizer<4,>=2 in /home/yousef/miniconda3/envs/kidney2/lib/python3.10/site-packages (from requests[socks]->gdown) (3.4.3)\n",
      "Requirement already satisfied: idna<4,>=2.5 in /home/yousef/miniconda3/envs/kidney2/lib/python3.10/site-packages (from requests[socks]->gdown) (3.10)\n",
      "Requirement already satisfied: urllib3<3,>=1.21.1 in /home/yousef/miniconda3/envs/kidney2/lib/python3.10/site-packages (from requests[socks]->gdown) (2.5.0)\n",
      "Requirement already satisfied: certifi>=2017.4.17 in /home/yousef/miniconda3/envs/kidney2/lib/python3.10/site-packages (from requests[socks]->gdown) (2025.8.3)\n",
      "Requirement already satisfied: PySocks!=1.5.7,>=1.5.6 in /home/yousef/miniconda3/envs/kidney2/lib/python3.10/site-packages (from requests[socks]->gdown) (1.7.1)\n",
      "Note: you may need to restart the kernel to use updated packages.\n"
     ]
    }
   ],
   "source": [
    "##download data from gdown\n",
    "\n",
    "# Install gdown if not already installed\n",
    "%pip install gdown\n",
    "\n",
    "import gdown\n",
    "url=\"https://drive.google.com/file/d/1vlhZ5c7abUKF8xXERIw6m9Te8fW7ohw3/view?usp=sharing\""
   ]
  },
  {
   "cell_type": "code",
   "execution_count": 6,
   "id": "335bf03d",
   "metadata": {},
   "outputs": [
    {
     "data": {
      "text/plain": [
       "'1vlhZ5c7abUKF8xXERIw6m9Te8fW7ohw3'"
      ]
     },
     "execution_count": 6,
     "metadata": {},
     "output_type": "execute_result"
    }
   ],
   "source": [
    "file_id = url.split(\"/\")[-2]\n",
    "file_id"
   ]
  },
  {
   "cell_type": "code",
   "execution_count": 7,
   "id": "c88b6666",
   "metadata": {},
   "outputs": [
    {
     "name": "stderr",
     "output_type": "stream",
     "text": [
      "Downloading...\n",
      "From (original): https://drive.google.com/uc?/export=download&id=1vlhZ5c7abUKF8xXERIw6m9Te8fW7ohw3\n",
      "From (redirected): https://drive.google.com/uc?%2Fexport=download&id=1vlhZ5c7abUKF8xXERIw6m9Te8fW7ohw3&confirm=t&uuid=0b9ff52b-1553-42a0-a81c-f148d077e45d\n",
      "To: /home/yousef/Kidney-Diseases-Classification/research/kidney-CT-Scan-data.zip\n",
      "100%|██████████| 57.7M/57.7M [00:17<00:00, 3.33MB/s]\n"
     ]
    },
    {
     "data": {
      "text/plain": [
       "'kidney-CT-Scan-data.zip'"
      ]
     },
     "execution_count": 7,
     "metadata": {},
     "output_type": "execute_result"
    }
   ],
   "source": [
    "prefix = 'https://drive.google.com/uc?/export=download&id='\n",
    "gdown.download(prefix+file_id, \"kidney-CT-Scan-data.zip\")"
   ]
  }
 ],
 "metadata": {
  "kernelspec": {
   "display_name": "kidney2",
   "language": "python",
   "name": "python3"
  },
  "language_info": {
   "codemirror_mode": {
    "name": "ipython",
    "version": 3
   },
   "file_extension": ".py",
   "mimetype": "text/x-python",
   "name": "python",
   "nbconvert_exporter": "python",
   "pygments_lexer": "ipython3",
   "version": "3.10.18"
  }
 },
 "nbformat": 4,
 "nbformat_minor": 5
}
